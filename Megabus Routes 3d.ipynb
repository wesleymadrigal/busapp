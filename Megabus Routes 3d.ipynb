{
 "metadata": {
  "name": "Megabus Routes 3d"
 },
 "nbformat": 3,
 "nbformat_minor": 0,
 "worksheets": [
  {
   "cells": [
    {
     "cell_type": "code",
     "collapsed": false,
     "input": [
      "import matplotlib.pyplot as plt\n",
      "import numpy as np\n",
      "from mayavi import mlab\n",
      "import networkx as nx\n",
      "from get_route import *\n",
      "from trip_planner import *"
     ],
     "language": "python",
     "metadata": {},
     "outputs": [],
     "prompt_number": 5
    },
    {
     "cell_type": "code",
     "collapsed": false,
     "input": [
      "xml = get_doc(\"new_cities.xml\")\n",
      "locs = get_title_locations(xml)\n",
      "routes = generate_routes2(xml, locs)"
     ],
     "language": "python",
     "metadata": {},
     "outputs": [],
     "prompt_number": 6
    },
    {
     "cell_type": "code",
     "collapsed": false,
     "input": [
      "H = nx.Graph()\n",
      "H.add_nodes_from(routes)\n",
      "for i in H.nodes():\n",
      "    for e in routes[i]:\n",
      "        H.add_edge(i, e)"
     ],
     "language": "python",
     "metadata": {},
     "outputs": [],
     "prompt_number": 7
    },
    {
     "cell_type": "code",
     "collapsed": false,
     "input": [
      "G = nx.convert_node_labels_to_integers(H)\n",
      "graph_pos = nx.random_layout(G, dim=3)\n",
      "xyz = np.array([graph_pos[v] for v in sorted(G)])\n",
      "scalars = np.array(G.nodes())+5\n",
      "mlab.figure(1, bgcolor=(1,1,1))\n",
      "mlab.clf()\n",
      "pts = mlab.points3d(xyz[:,0], xyz[:,1], xyz[:,2],\n",
      "                    scalars,\n",
      "                    scale_factor=0.05,\n",
      "                    scale_mode='none',\n",
      "                    colormap='winter',\n",
      "                    resolution=20)\n",
      "for i,(x,y,z) in enumerate(xyz):\n",
      "    label = mlab.text(x,y,H.nodes()[i],z=z, width=0.05, name=str(i), color=(0,0,0))\n",
      "    label.property.shadow=True\n",
      "    \n",
      "pts.mlab_source.dataset.lines = np.array(G.edges())\n",
      "tube = mlab.pipeline.tube(pts, tube_radius=0.002)\n",
      "mlab.pipeline.surface(tube, color=(0.8,0.8,0.8))\n",
      "mlab.show()"
     ],
     "language": "python",
     "metadata": {},
     "outputs": [],
     "prompt_number": 4
    },
    {
     "cell_type": "code",
     "collapsed": false,
     "input": [],
     "language": "python",
     "metadata": {},
     "outputs": []
    }
   ],
   "metadata": {}
  }
 ]
}