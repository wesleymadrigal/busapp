{
 "metadata": {
  "name": "Untitled0"
 },
 "nbformat": 3,
 "nbformat_minor": 0,
 "worksheets": [
  {
   "cells": [
    {
     "cell_type": "code",
     "collapsed": false,
     "input": [
      "from trip_planner import *\n",
      "from get_route import *"
     ],
     "language": "python",
     "metadata": {},
     "outputs": [],
     "prompt_number": 1
    },
    {
     "cell_type": "code",
     "collapsed": false,
     "input": [
      "xml = get_doc('new_cities.xml')\n",
      "locs = get_title_locations(xml)\n",
      "routes = generate_routes2(xml, locs)"
     ],
     "language": "python",
     "metadata": {},
     "outputs": [],
     "prompt_number": 2
    },
    {
     "cell_type": "code",
     "collapsed": false,
     "input": [
      "trip = plan_trip('Dallas/Fort Worth, TX', 'New York, NY', routes)"
     ],
     "language": "python",
     "metadata": {},
     "outputs": [],
     "prompt_number": 3
    },
    {
     "cell_type": "code",
     "collapsed": false,
     "input": [
      "trip"
     ],
     "language": "python",
     "metadata": {},
     "outputs": [
      {
       "output_type": "pyout",
       "prompt_number": 4,
       "text": [
        "{'1': ['Dallas/Fort Worth, TX', 'Atlanta, GA', 'Buffalo, NY', 'New York, NY'],\n",
        " '2': ['Dallas/Fort Worth, TX',\n",
        "  'Atlanta, GA',\n",
        "  'Charlotte, NC',\n",
        "  'New York, NY'],\n",
        " '3': ['Dallas/Fort Worth, TX',\n",
        "  'Atlanta, GA',\n",
        "  'Knoxville, TN',\n",
        "  'New York, NY'],\n",
        " '4': ['Dallas/Fort Worth, TX',\n",
        "  'Chicago, IL',\n",
        "  'Ann Arbor, MI',\n",
        "  'New York, NY'],\n",
        " '5': ['Dallas/Fort Worth, TX',\n",
        "  'Chicago, IL',\n",
        "  'Cleveland, OH',\n",
        "  'New York, NY'],\n",
        " '6': ['Dallas/Fort Worth, TX', 'Chicago, IL', 'Detroit, MI', 'New York, NY'],\n",
        " '7': ['Dallas/Fort Worth, TX', 'Chicago, IL', 'Toledo, OH', 'New York, NY']}"
       ]
      }
     ],
     "prompt_number": 4
    },
    {
     "cell_type": "code",
     "collapsed": false,
     "input": [
      "trip_legs, trip_hours, trip_links = make_formatted2(trip, '5', '5')"
     ],
     "language": "python",
     "metadata": {},
     "outputs": [],
     "prompt_number": 6
    },
    {
     "cell_type": "code",
     "collapsed": false,
     "input": [
      "trip_legs"
     ],
     "language": "python",
     "metadata": {},
     "outputs": [
      {
       "output_type": "pyout",
       "prompt_number": 7,
       "text": [
        "{'1': {'leg 1': {'Dallas/Fort Worth, TX-Chicago, IL-5-5': {'21.25': [('1030PM-745PM',\n",
        "      '$61.00'),\n",
        "     ('1055PM-745PM', '$61.00')]}},\n",
        "  'leg 2': {'Chicago, IL-Toledo, OH-5-6': {'4.41': [('815AM-140PM', '$37.00'),\n",
        "     ('1130PM-455AM', '$39.00'),\n",
        "     ('415PM-940PM', '$39.00')]}},\n",
        "  'leg 3': {'Toledo, OH-New York, NY-5-7': {'0.0': [('-', '$.')]}}},\n",
        " '2': {'leg 1': {'Dallas/Fort Worth, TX-Chicago, IL-5-5': {'21.25': [('1030PM-745PM',\n",
        "      '$61.00'),\n",
        "     ('1055PM-745PM', '$61.00')]}},\n",
        "  'leg 2': {'Chicago, IL-Ann Arbor, MI-5-6': {'4.66': [('830AM-210PM',\n",
        "      '$41.00'),\n",
        "     ('445PM-1025PM', '$46.00'),\n",
        "     ('1030AM-410PM', '$44.00')]}},\n",
        "  'leg 3': {'Ann Arbor, MI-New York, NY-5-7': {'0.0': [('-', '$.')]}}},\n",
        " '3': {'leg 1': {'Dallas/Fort Worth, TX-Chicago, IL-5-5': {'21.25': [('1030PM-745PM',\n",
        "      '$61.00'),\n",
        "     ('1055PM-745PM', '$61.00')]}},\n",
        "  'leg 2': {'Chicago, IL-Detroit, MI-5-6': {'6.66': [('1159PM-735AM',\n",
        "      '$30.00'),\n",
        "     ('445PM-1120PM', '$49.00'),\n",
        "     ('1159PM-725AM', '$30.00'),\n",
        "     ('730AM-310PM', '$27.00'),\n",
        "     ('830AM-255PM', '$27.00'),\n",
        "     ('730AM-300PM', '$27.00'),\n",
        "     ('1030AM-455PM', '$49.00'),\n",
        "     ('830AM-310PM', '$27.00'),\n",
        "     ('330PM-1110PM', '$47.00'),\n",
        "     ('1030AM-510PM', '$49.00'),\n",
        "     ('445PM-1110PM', '$49.00'),\n",
        "     ('330PM-1100PM', '$47.00')]}},\n",
        "  'leg 3': {'Detroit, MI-New York, NY-5-7': {'0.0': [('-', '$.')]}}},\n",
        " '4': {'leg 1': {'Dallas/Fort Worth, TX-Chicago, IL-5-5': {'21.25': [('1030PM-745PM',\n",
        "      '$61.00'),\n",
        "     ('1055PM-745PM', '$61.00')]}},\n",
        "  'leg 2': {'Chicago, IL-Cleveland, OH-5-6': {'6.75': [('815AM-400PM',\n",
        "      '$37.00'),\n",
        "     ('1130PM-700AM', '$39.00'),\n",
        "     ('415PM-1200AM', '$39.00')]}},\n",
        "  'leg 3': {'Cleveland, OH-New York, NY-5-7': {'0.0': [('-', '$.')]}}},\n",
        " '5': {'leg 1': {'Dallas/Fort Worth, TX-Atlanta, GA-5-5': {'20.5': [('1100AM-830AM',\n",
        "      '$59.00'),\n",
        "     ('1125AM-830AM', '$59.00')]}},\n",
        "  'leg 2': {'Atlanta, GA-Knoxville, TN-5-6': {'4.16': [('100PM-510PM',\n",
        "      '$11.00'),\n",
        "     ('1159PM-410AM', '$11.00')]}},\n",
        "  'leg 3': {'Knoxville, TN-New York, NY-5-7': {'15.16': [('1100PM-210PM',\n",
        "      '$81.00')]}}},\n",
        " '6': {'leg 1': {'Dallas/Fort Worth, TX-Atlanta, GA-5-5': {'20.5': [('1100AM-830AM',\n",
        "      '$59.00'),\n",
        "     ('1125AM-830AM', '$59.00')]}},\n",
        "  'leg 2': {'Atlanta, GA-Charlotte, NC-5-6': {'4.25': [('730AM-1145AM',\n",
        "      '$19.00'),\n",
        "     ('500PM-915PM', '$22.00'),\n",
        "     ('1130AM-345PM', '$19.00')]}},\n",
        "  'leg 3': {'Charlotte, NC-New York, NY-5-7': {'16.16': [('700AM-1110PM',\n",
        "      '$80.00'),\n",
        "     ('1000PM-110PM', '$89.00')]}}},\n",
        " '7': {'leg 1': {'Dallas/Fort Worth, TX-Atlanta, GA-5-5': {'20.5': [('1100AM-830AM',\n",
        "      '$59.00'),\n",
        "     ('1125AM-830AM', '$59.00')]}},\n",
        "  'leg 2': {'Atlanta, GA-Buffalo, NY-5-6': {'19.75': [('100PM-845AM',\n",
        "      '$59.00'),\n",
        "     ('1159PM-915PM', '$59.00')]}},\n",
        "  'leg 3': {'Buffalo, NY-New York, NY-5-7': {'8.0': [('245AM-1045AM',\n",
        "      '$39.00'),\n",
        "     ('915PM-530AM', '$58.00'),\n",
        "     ('1245PM-900PM', '$50.00')]}}}}"
       ]
      }
     ],
     "prompt_number": 7
    },
    {
     "cell_type": "code",
     "collapsed": false,
     "input": [],
     "language": "python",
     "metadata": {},
     "outputs": []
    }
   ],
   "metadata": {}
  }
 ]
}