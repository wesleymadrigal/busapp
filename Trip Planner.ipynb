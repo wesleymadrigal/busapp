{
 "metadata": {
  "name": "Trip Planner"
 },
 "nbformat": 3,
 "nbformat_minor": 0,
 "worksheets": [
  {
   "cells": [
    {
     "cell_type": "code",
     "collapsed": false,
     "input": [
      "from get_route import *\n",
      "from trip_planner import *\n",
      "from time import strftime\n",
      "import os"
     ],
     "language": "python",
     "metadata": {},
     "outputs": [],
     "prompt_number": 1
    },
    {
     "cell_type": "code",
     "collapsed": false,
     "input": [
      "xml = get_doc(\"new_cities.xml\")\n",
      "locs = get_title_locations(xml)\n",
      "routes = generate_routes2(xml, locs)"
     ],
     "language": "python",
     "metadata": {},
     "outputs": [],
     "prompt_number": 2
    },
    {
     "cell_type": "code",
     "collapsed": false,
     "input": [
      "from megabus_times_library import library"
     ],
     "language": "python",
     "metadata": {},
     "outputs": [],
     "prompt_number": 3
    },
    {
     "cell_type": "code",
     "collapsed": false,
     "input": [
      "def update_data(data_dict):\n",
      "    today = str(int(strftime('%d')))\n",
      "    month = str(int(strftime('%m')))\n",
      "    for i in data_dict.keys():\n",
      "        curr_key = i\n",
      "        star = curr_key.find('-', curr_key.find('-')+1)\n",
      "        third_hyph = curr_key.find('-', star+1)\n",
      "        curr_key_month = curr_key[star+1:third_hyph]\n",
      "        day = curr_key[third_hyph+1:]\n",
      "        if int(curr_key_month) and int(month):\n",
      "            if int(curr_key_month) < int(month):\n",
      "                del data_dict[i]\n",
      "        elif curr_key_month == month:\n",
      "                if int(day):\n",
      "                    if int(today) > int(day):\n",
      "                        del data_dict[i]\n",
      "        for from_c in routes:\n",
      "            for to_c in from_c:\n",
      "                get_data_from_future(mb_api, from_c, to_c, month, today+1, months, data_dict)\n",
      "    return data_dict\n"
     ],
     "language": "python",
     "metadata": {},
     "outputs": [],
     "prompt_number": 10
    },
    {
     "cell_type": "code",
     "collapsed": false,
     "input": [
      "today = str(int(strftime('%d')))\n",
      "month = str(int(strftime('%m')))\n",
      "for i in library.keys():\n",
      "    first_hyph = i.find('-', i.find('-')+1)\n",
      "    sec_hyph = i.find('-', first_hyph + 1)\n",
      "    cur_m = i[first_hyph+1:sec_hyph]\n",
      "    cur_d = i[sec_hyph+1:]\n",
      "    try:\n",
      "        if int(cur_m) < int(month):\n",
      "            del library[i]\n",
      "        elif cur_m == month:\n",
      "            if int(cur_d) < int(today):\n",
      "                del library[i]\n",
      "    except:\n",
      "        print \"hit an error\""
     ],
     "language": "python",
     "metadata": {},
     "outputs": [],
     "prompt_number": 4
    },
    {
     "cell_type": "code",
     "collapsed": false,
     "input": [
      "len(library.keys())"
     ],
     "language": "python",
     "metadata": {},
     "outputs": [
      {
       "output_type": "pyout",
       "prompt_number": 17,
       "text": [
        "3101"
       ]
      }
     ],
     "prompt_number": 17
    },
    {
     "cell_type": "code",
     "collapsed": false,
     "input": [
      "for i in routes.keys():\n",
      "    for e in routes[i]:\n",
      "        get_future_data(mb_api, i, e, 4, 30, months, library)"
     ],
     "language": "python",
     "metadata": {},
     "outputs": [],
     "prompt_number": 18
    },
    {
     "cell_type": "code",
     "collapsed": false,
     "input": [
      "os.remove(\"megabus_times_library.py\")"
     ],
     "language": "python",
     "metadata": {},
     "outputs": [],
     "prompt_number": 19
    },
    {
     "cell_type": "code",
     "collapsed": false,
     "input": [
      "f = open(\"megabus_times_library.py\", \"w\")\n",
      "f.write(\"library = %s\" % library)\n",
      "f.close()"
     ],
     "language": "python",
     "metadata": {},
     "outputs": [],
     "prompt_number": 20
    },
    {
     "cell_type": "code",
     "collapsed": false,
     "input": [
      "xml = get_doc(\"new_cities.xml\")\n",
      "locs = get_title_locations(xml)\n",
      "routes = generate_routes2(xml, locs)"
     ],
     "language": "python",
     "metadata": {},
     "outputs": [],
     "prompt_number": 27
    },
    {
     "cell_type": "code",
     "collapsed": false,
     "input": [
      "trip = plan_trip('Nashville, TN', 'St Louis, MO', routes)"
     ],
     "language": "python",
     "metadata": {},
     "outputs": [],
     "prompt_number": 28
    },
    {
     "cell_type": "code",
     "collapsed": false,
     "input": [
      "hours_dict = {}\n",
      "for e in trip:\n",
      "    hours_dict[i] = ''\n",
      "    for i in range(len(trip[e])-1):\n",
      "        cared_about = get_cared_about(mb_api, trip[e][i], trip[e][i+1], '29', '3', '2013')\n",
      "        hours = find_hours(cared_about, trip[e][i])\n",
      "        hours_dict[i] += hours"
     ],
     "language": "python",
     "metadata": {},
     "outputs": [
      {
       "ename": "IndexError",
       "evalue": "list index out of range",
       "output_type": "pyerr",
       "traceback": [
        "\u001b[1;31m---------------------------------------------------------------------------\u001b[0m\n\u001b[1;31mIndexError\u001b[0m                                Traceback (most recent call last)",
        "\u001b[1;32m<ipython-input-30-6ab8ecf87316>\u001b[0m in \u001b[0;36m<module>\u001b[1;34m()\u001b[0m\n\u001b[0;32m      4\u001b[0m     \u001b[1;32mfor\u001b[0m \u001b[0mi\u001b[0m \u001b[1;32min\u001b[0m \u001b[0mrange\u001b[0m\u001b[1;33m(\u001b[0m\u001b[0mlen\u001b[0m\u001b[1;33m(\u001b[0m\u001b[0mtrip\u001b[0m\u001b[1;33m[\u001b[0m\u001b[0me\u001b[0m\u001b[1;33m]\u001b[0m\u001b[1;33m)\u001b[0m\u001b[1;33m-\u001b[0m\u001b[1;36m1\u001b[0m\u001b[1;33m)\u001b[0m\u001b[1;33m:\u001b[0m\u001b[1;33m\u001b[0m\u001b[0m\n\u001b[0;32m      5\u001b[0m         \u001b[0mcared_about\u001b[0m \u001b[1;33m=\u001b[0m \u001b[0mget_cared_about\u001b[0m\u001b[1;33m(\u001b[0m\u001b[0mmb_api\u001b[0m\u001b[1;33m,\u001b[0m \u001b[0mtrip\u001b[0m\u001b[1;33m[\u001b[0m\u001b[0me\u001b[0m\u001b[1;33m]\u001b[0m\u001b[1;33m[\u001b[0m\u001b[0mi\u001b[0m\u001b[1;33m]\u001b[0m\u001b[1;33m,\u001b[0m \u001b[0mtrip\u001b[0m\u001b[1;33m[\u001b[0m\u001b[0me\u001b[0m\u001b[1;33m]\u001b[0m\u001b[1;33m[\u001b[0m\u001b[0mi\u001b[0m\u001b[1;33m+\u001b[0m\u001b[1;36m1\u001b[0m\u001b[1;33m]\u001b[0m\u001b[1;33m,\u001b[0m \u001b[1;34m'29'\u001b[0m\u001b[1;33m,\u001b[0m \u001b[1;34m'3'\u001b[0m\u001b[1;33m,\u001b[0m \u001b[1;34m'2013'\u001b[0m\u001b[1;33m)\u001b[0m\u001b[1;33m\u001b[0m\u001b[0m\n\u001b[1;32m----> 6\u001b[1;33m         \u001b[0mhours\u001b[0m \u001b[1;33m=\u001b[0m \u001b[0mfind_hours\u001b[0m\u001b[1;33m(\u001b[0m\u001b[0mcared_about\u001b[0m\u001b[1;33m,\u001b[0m \u001b[0mtrip\u001b[0m\u001b[1;33m[\u001b[0m\u001b[0me\u001b[0m\u001b[1;33m]\u001b[0m\u001b[1;33m[\u001b[0m\u001b[0mi\u001b[0m\u001b[1;33m]\u001b[0m\u001b[1;33m)\u001b[0m\u001b[1;33m\u001b[0m\u001b[0m\n\u001b[0m\u001b[0;32m      7\u001b[0m         \u001b[0mhours_dict\u001b[0m\u001b[1;33m[\u001b[0m\u001b[0mi\u001b[0m\u001b[1;33m]\u001b[0m \u001b[1;33m+=\u001b[0m \u001b[0mhours\u001b[0m\u001b[1;33m\u001b[0m\u001b[0m\n",
        "\u001b[1;32m/home/wes/google_projects/megabusfinder/trip_planner.py\u001b[0m in \u001b[0;36mfind_hours\u001b[1;34m(cared_about, from_c)\u001b[0m\n\u001b[0;32m     43\u001b[0m \u001b[1;32mdef\u001b[0m \u001b[0mfind_hours\u001b[0m\u001b[1;33m(\u001b[0m\u001b[0mcared_about\u001b[0m\u001b[1;33m,\u001b[0m \u001b[0mfrom_c\u001b[0m\u001b[1;33m)\u001b[0m\u001b[1;33m:\u001b[0m\u001b[1;33m\u001b[0m\u001b[0m\n\u001b[0;32m     44\u001b[0m     \u001b[0mlocs\u001b[0m \u001b[1;33m=\u001b[0m \u001b[0mget_locations\u001b[0m\u001b[1;33m(\u001b[0m\u001b[0mcared_about\u001b[0m\u001b[1;33m,\u001b[0m \u001b[0mfrom_c\u001b[0m\u001b[1;33m)\u001b[0m\u001b[1;33m\u001b[0m\u001b[0m\n\u001b[1;32m---> 45\u001b[1;33m     \u001b[0mregion\u001b[0m \u001b[1;33m=\u001b[0m \u001b[0mcared_about\u001b[0m\u001b[1;33m[\u001b[0m\u001b[0mlocs\u001b[0m\u001b[1;33m[\u001b[0m\u001b[1;36m0\u001b[0m\u001b[1;33m]\u001b[0m\u001b[1;33m:\u001b[0m\u001b[1;33m]\u001b[0m\u001b[1;33m\u001b[0m\u001b[0m\n\u001b[0m\u001b[0;32m     46\u001b[0m     \u001b[1;32mif\u001b[0m \u001b[0mlen\u001b[0m\u001b[1;33m(\u001b[0m\u001b[0mlocs\u001b[0m\u001b[1;33m)\u001b[0m \u001b[1;33m>\u001b[0m \u001b[1;36m1\u001b[0m\u001b[1;33m:\u001b[0m\u001b[1;33m\u001b[0m\u001b[0m\n\u001b[0;32m     47\u001b[0m         \u001b[0mregion\u001b[0m \u001b[1;33m=\u001b[0m \u001b[0mcared_about\u001b[0m\u001b[1;33m[\u001b[0m\u001b[0mlocs\u001b[0m\u001b[1;33m[\u001b[0m\u001b[1;36m0\u001b[0m\u001b[1;33m]\u001b[0m\u001b[1;33m:\u001b[0m\u001b[0mlocs\u001b[0m\u001b[1;33m[\u001b[0m\u001b[1;36m1\u001b[0m\u001b[1;33m]\u001b[0m\u001b[1;33m]\u001b[0m\u001b[1;33m\u001b[0m\u001b[0m\n",
        "\u001b[1;31mIndexError\u001b[0m: list index out of range"
       ]
      }
     ],
     "prompt_number": 30
    },
    {
     "cell_type": "code",
     "collapsed": false,
     "input": [
      "trip"
     ],
     "language": "python",
     "metadata": {},
     "outputs": [
      {
       "output_type": "pyout",
       "prompt_number": 31,
       "text": [
        "{'1': ['Nashville, TN', 'Chicago, IL', 'St Louis, MO'],\n",
        " '2': ['Nashville, TN', 'Dallas/Fort Worth, TX', 'St Louis, MO'],\n",
        " '3': ['Nashville, TN', 'Memphis, TN', 'St Louis, MO']}"
       ]
      }
     ],
     "prompt_number": 31
    },
    {
     "cell_type": "code",
     "collapsed": false,
     "input": [
      "cared_about = get_cared_about(mb_api, 'Nashville, TN', 'Chicago, IL', '29', '3', '2013')"
     ],
     "language": "python",
     "metadata": {},
     "outputs": [],
     "prompt_number": 32
    },
    {
     "cell_type": "code",
     "collapsed": false,
     "input": [
      "for i in cared_about:\n",
      "    for e in i:\n",
      "        if 'Nashville, TN' in e:\n",
      "            print cared_about.index(i)"
     ],
     "language": "python",
     "metadata": {},
     "outputs": [],
     "prompt_number": 37
    },
    {
     "cell_type": "code",
     "collapsed": false,
     "input": [],
     "language": "python",
     "metadata": {},
     "outputs": [],
     "prompt_number": 36
    },
    {
     "cell_type": "code",
     "collapsed": false,
     "input": [],
     "language": "python",
     "metadata": {},
     "outputs": []
    }
   ],
   "metadata": {}
  }
 ]
}