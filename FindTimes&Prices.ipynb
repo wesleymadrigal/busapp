{
 "metadata": {
  "name": "FindTimes&Prices"
 },
 "nbformat": 3,
 "nbformat_minor": 0,
 "worksheets": [
  {
   "cells": [
    {
     "cell_type": "code",
     "collapsed": false,
     "input": [
      "from trip_planner import *\n",
      "from get_route import *"
     ],
     "language": "python",
     "metadata": {},
     "outputs": [],
     "prompt_number": 1
    },
    {
     "cell_type": "code",
     "collapsed": false,
     "input": [
      "cared = get_cared_about(mb_api, 'St Louis, MO', 'Chicago, IL', '5', '4', '2013')"
     ],
     "language": "python",
     "metadata": {},
     "outputs": [],
     "prompt_number": 2
    },
    {
     "cell_type": "code",
     "collapsed": false,
     "input": [
      "xml = get_doc('new_cities.xml')\n",
      "locs = get_title_locations(xml)\n",
      "routes = generate_routes2(xml, locs)"
     ],
     "language": "python",
     "metadata": {},
     "outputs": [],
     "prompt_number": 4
    },
    {
     "cell_type": "code",
     "collapsed": false,
     "input": [
      "trip = plan_trip('Orlando, FL', 'St Louis, MO', routes)"
     ],
     "language": "python",
     "metadata": {},
     "outputs": [],
     "prompt_number": 8
    },
    {
     "cell_type": "code",
     "collapsed": false,
     "input": [
      "trip"
     ],
     "language": "python",
     "metadata": {},
     "outputs": [
      {
       "output_type": "pyout",
       "prompt_number": 10,
       "text": [
        "{'1': ['Orlando, FL', 'Atlanta, GA', 'Chicago, IL', 'St Louis, MO'],\n",
        " '2': ['Orlando, FL', 'Atlanta, GA', 'Dallas/Fort Worth, TX', 'St Louis, MO'],\n",
        " '3': ['Orlando, FL', 'Atlanta, GA', 'Memphis, TN', 'St Louis, MO']}"
       ]
      }
     ],
     "prompt_number": 10
    },
    {
     "cell_type": "code",
     "collapsed": false,
     "input": [
      "trip_legs, trip_hours, trip_links = make_formatted(trip, '4', '6')\n"
     ],
     "language": "python",
     "metadata": {},
     "outputs": [],
     "prompt_number": 15
    },
    {
     "cell_type": "code",
     "collapsed": false,
     "input": [
      "hours = sorted([trip_hours[i] for i in trip_hours.keys()])"
     ],
     "language": "python",
     "metadata": {},
     "outputs": [],
     "prompt_number": 18
    },
    {
     "cell_type": "code",
     "collapsed": false,
     "input": [],
     "language": "python",
     "metadata": {},
     "outputs": [
      {
       "output_type": "pyout",
       "prompt_number": 19,
       "text": [
        "[21.98, 26.82, 34.91]"
       ]
      }
     ],
     "prompt_number": 19
    },
    {
     "cell_type": "code",
     "collapsed": false,
     "input": [
      "trip_legs"
     ],
     "language": "python",
     "metadata": {},
     "outputs": [
      {
       "output_type": "pyout",
       "prompt_number": 20,
       "text": [
        "{'1': {'leg 1': {'Orlando, FL-Atlanta, GA-4-6': [('730AM-425PM', '$34.00'),\n",
        "    ('200PM-1015PM', '$26.00'),\n",
        "    ('1130AM-745PM', '$26.00'),\n",
        "    ('1130PM-845AM', '$34.00'),\n",
        "    ('800PM-455AM', '$26.00')]},\n",
        "  'leg 2': {'Atlanta, GA-Chicago, IL-4-6': [('130PM-900AM', '$89.00')]},\n",
        "  'leg 3': {'Chicago, IL-St Louis, MO-4-8': [('630AM-1200PM', '$30.00'),\n",
        "    ('1145AM-545PM', '$25.00'),\n",
        "    ('845AM-215PM', '$15.00'),\n",
        "    ('1155PM-525AM', '$30.00'),\n",
        "    ('530PM-1130PM', '$11.00')]}},\n",
        " '2': {'leg 1': {'Orlando, FL-Atlanta, GA-4-6': [('730AM-425PM', '$34.00'),\n",
        "    ('200PM-1015PM', '$26.00'),\n",
        "    ('1130AM-745PM', '$26.00'),\n",
        "    ('1130PM-845AM', '$34.00'),\n",
        "    ('800PM-455AM', '$26.00')]},\n",
        "  'leg 2': {'Atlanta, GA-Dallas/Fort Worth, TX-4-6': [('130PM-625AM',\n",
        "     '$59.00'),\n",
        "    ('130PM-650AM', '$59.00')]},\n",
        "  'leg 3': {'Dallas/Fort Worth, TX-St Louis, MO-4-8': [('-', '$.')]}},\n",
        " '3': {'leg 1': {'Orlando, FL-Atlanta, GA-4-6': [('730AM-425PM', '$34.00'),\n",
        "    ('200PM-1015PM', '$26.00'),\n",
        "    ('1130AM-745PM', '$26.00'),\n",
        "    ('1130PM-845AM', '$34.00'),\n",
        "    ('800PM-455AM', '$26.00')]},\n",
        "  'leg 2': {'Atlanta, GA-Memphis, TN-4-6': [('630AM-125PM', '$21.00'),\n",
        "    ('1030PM-515AM', '$15.00'),\n",
        "    ('130PM-825PM', '$29.00')]},\n",
        "  'leg 3': {'Memphis, TN-St Louis, MO-4-7': [('640AM-1150AM', '$29.00')]}}}"
       ]
      }
     ],
     "prompt_number": 20
    },
    {
     "cell_type": "code",
     "collapsed": false,
     "input": [
      "for hour in range(len(hours)):\n",
      "    for key in trip_hours.keys():\n",
      "        if trip_hours[key] == hours[hour]:\n",
      "            print 'iteration = %s' % hour, trip_legs[key], trip_hours[key]"
     ],
     "language": "python",
     "metadata": {},
     "outputs": [
      {
       "output_type": "stream",
       "stream": "stdout",
       "text": [
        "iteration = 0 {'leg 1': {'Orlando, FL-Atlanta, GA-4-6': [('730AM-425PM', '$34.00'), ('200PM-1015PM', '$26.00'), ('1130AM-745PM', '$26.00'), ('1130PM-845AM', '$34.00'), ('800PM-455AM', '$26.00')]}, 'leg 3': {'Memphis, TN-St Louis, MO-4-7': [('640AM-1150AM', '$29.00')]}, 'leg 2': {'Atlanta, GA-Memphis, TN-4-6': [('630AM-125PM', '$21.00'), ('1030PM-515AM', '$15.00'), ('130PM-825PM', '$29.00')]}} 21.98\n",
        "iteration = 1 {'leg 1': {'Orlando, FL-Atlanta, GA-4-6': [('730AM-425PM', '$34.00'), ('200PM-1015PM', '$26.00'), ('1130AM-745PM', '$26.00'), ('1130PM-845AM', '$34.00'), ('800PM-455AM', '$26.00')]}, 'leg 3': {'Dallas/Fort Worth, TX-St Louis, MO-4-8': [('-', '$.')]}, 'leg 2': {'Atlanta, GA-Dallas/Fort Worth, TX-4-6': [('130PM-625AM', '$59.00'), ('130PM-650AM', '$59.00')]}} 26.82\n",
        "iteration = 2 {'leg 1': {'Orlando, FL-Atlanta, GA-4-6': [('730AM-425PM', '$34.00'), ('200PM-1015PM', '$26.00'), ('1130AM-745PM', '$26.00'), ('1130PM-845AM', '$34.00'), ('800PM-455AM', '$26.00')]}, 'leg 3': {'Chicago, IL-St Louis, MO-4-8': [('630AM-1200PM', '$30.00'), ('1145AM-545PM', '$25.00'), ('845AM-215PM', '$15.00'), ('1155PM-525AM', '$30.00'), ('530PM-1130PM', '$11.00')]}, 'leg 2': {'Atlanta, GA-Chicago, IL-4-6': [('130PM-900AM', '$89.00')]}} 34.91\n"
       ]
      }
     ],
     "prompt_number": 24
    },
    {
     "cell_type": "code",
     "collapsed": false,
     "input": [
      "new_legs, new_hours, new_links = {}, {}, {}"
     ],
     "language": "python",
     "metadata": {},
     "outputs": [],
     "prompt_number": 27
    },
    {
     "cell_type": "code",
     "collapsed": false,
     "input": [
      "for hour in range(len(hours)):\n",
      "    for key in trip_hours.keys():\n",
      "        if trip_hours[key] == hours[hour]:\n",
      "            new_key = str(hour+1)\n",
      "            new_legs[new_key] = trip_legs[key]\n",
      "            new_hours[new_key] = trip_hours[key]\n",
      "            new_links[new_key] = trip_links[key]"
     ],
     "language": "python",
     "metadata": {},
     "outputs": [],
     "prompt_number": 28
    },
    {
     "cell_type": "code",
     "collapsed": false,
     "input": [
      "trip_legs"
     ],
     "language": "python",
     "metadata": {},
     "outputs": [
      {
       "output_type": "pyout",
       "prompt_number": 32,
       "text": [
        "{'1': {'leg 1': {'Orlando, FL-Atlanta, GA-4-6': [('730AM-425PM', '$34.00'),\n",
        "    ('200PM-1015PM', '$26.00'),\n",
        "    ('1130AM-745PM', '$26.00'),\n",
        "    ('1130PM-845AM', '$34.00'),\n",
        "    ('800PM-455AM', '$26.00')]},\n",
        "  'leg 2': {'Atlanta, GA-Chicago, IL-4-6': [('130PM-900AM', '$89.00')]},\n",
        "  'leg 3': {'Chicago, IL-St Louis, MO-4-8': [('630AM-1200PM', '$30.00'),\n",
        "    ('1145AM-545PM', '$25.00'),\n",
        "    ('845AM-215PM', '$15.00'),\n",
        "    ('1155PM-525AM', '$30.00'),\n",
        "    ('530PM-1130PM', '$11.00')]}},\n",
        " '2': {'leg 1': {'Orlando, FL-Atlanta, GA-4-6': [('730AM-425PM', '$34.00'),\n",
        "    ('200PM-1015PM', '$26.00'),\n",
        "    ('1130AM-745PM', '$26.00'),\n",
        "    ('1130PM-845AM', '$34.00'),\n",
        "    ('800PM-455AM', '$26.00')]},\n",
        "  'leg 2': {'Atlanta, GA-Dallas/Fort Worth, TX-4-6': [('130PM-625AM',\n",
        "     '$59.00'),\n",
        "    ('130PM-650AM', '$59.00')]},\n",
        "  'leg 3': {'Dallas/Fort Worth, TX-St Louis, MO-4-8': [('-', '$.')]}},\n",
        " '3': {'leg 1': {'Orlando, FL-Atlanta, GA-4-6': [('730AM-425PM', '$34.00'),\n",
        "    ('200PM-1015PM', '$26.00'),\n",
        "    ('1130AM-745PM', '$26.00'),\n",
        "    ('1130PM-845AM', '$34.00'),\n",
        "    ('800PM-455AM', '$26.00')]},\n",
        "  'leg 2': {'Atlanta, GA-Memphis, TN-4-6': [('630AM-125PM', '$21.00'),\n",
        "    ('1030PM-515AM', '$15.00'),\n",
        "    ('130PM-825PM', '$29.00')]},\n",
        "  'leg 3': {'Memphis, TN-St Louis, MO-4-7': [('640AM-1150AM', '$29.00')]}}}"
       ]
      }
     ],
     "prompt_number": 32
    },
    {
     "cell_type": "code",
     "collapsed": false,
     "input": [
      "new_legs"
     ],
     "language": "python",
     "metadata": {},
     "outputs": [
      {
       "output_type": "pyout",
       "prompt_number": 31,
       "text": [
        "{'1': {'leg 1': {'Orlando, FL-Atlanta, GA-4-6': [('730AM-425PM', '$34.00'),\n",
        "    ('200PM-1015PM', '$26.00'),\n",
        "    ('1130AM-745PM', '$26.00'),\n",
        "    ('1130PM-845AM', '$34.00'),\n",
        "    ('800PM-455AM', '$26.00')]},\n",
        "  'leg 2': {'Atlanta, GA-Memphis, TN-4-6': [('630AM-125PM', '$21.00'),\n",
        "    ('1030PM-515AM', '$15.00'),\n",
        "    ('130PM-825PM', '$29.00')]},\n",
        "  'leg 3': {'Memphis, TN-St Louis, MO-4-7': [('640AM-1150AM', '$29.00')]}},\n",
        " '2': {'leg 1': {'Orlando, FL-Atlanta, GA-4-6': [('730AM-425PM', '$34.00'),\n",
        "    ('200PM-1015PM', '$26.00'),\n",
        "    ('1130AM-745PM', '$26.00'),\n",
        "    ('1130PM-845AM', '$34.00'),\n",
        "    ('800PM-455AM', '$26.00')]},\n",
        "  'leg 2': {'Atlanta, GA-Dallas/Fort Worth, TX-4-6': [('130PM-625AM',\n",
        "     '$59.00'),\n",
        "    ('130PM-650AM', '$59.00')]},\n",
        "  'leg 3': {'Dallas/Fort Worth, TX-St Louis, MO-4-8': [('-', '$.')]}},\n",
        " '3': {'leg 1': {'Orlando, FL-Atlanta, GA-4-6': [('730AM-425PM', '$34.00'),\n",
        "    ('200PM-1015PM', '$26.00'),\n",
        "    ('1130AM-745PM', '$26.00'),\n",
        "    ('1130PM-845AM', '$34.00'),\n",
        "    ('800PM-455AM', '$26.00')]},\n",
        "  'leg 2': {'Atlanta, GA-Chicago, IL-4-6': [('130PM-900AM', '$89.00')]},\n",
        "  'leg 3': {'Chicago, IL-St Louis, MO-4-8': [('630AM-1200PM', '$30.00'),\n",
        "    ('1145AM-545PM', '$25.00'),\n",
        "    ('845AM-215PM', '$15.00'),\n",
        "    ('1155PM-525AM', '$30.00'),\n",
        "    ('530PM-1130PM', '$11.00')]}}}"
       ]
      }
     ],
     "prompt_number": 31
    },
    {
     "cell_type": "code",
     "collapsed": false,
     "input": [],
     "language": "python",
     "metadata": {},
     "outputs": []
    }
   ],
   "metadata": {}
  }
 ]
}